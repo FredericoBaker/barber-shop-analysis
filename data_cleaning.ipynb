{
 "cells": [
  {
   "cell_type": "markdown",
   "id": "70b74035",
   "metadata": {},
   "source": [
    "# Limpeza dos Dados de Presença de Clientes de uma Barbearia\n",
    "\n",
    "## Introdução\n",
    "Este notebook trata os dados de presença de clientes de uma barbearia. Foi necessário fazer tratamento de exceção devido a muitos erros de digitação e falta de padronização no dataset original e, a partir desse tratamento, a correção manual desses erros foi facilitada.\n",
    "\n",
    "## Importação das Bibliotecas"
   ]
  },
  {
   "cell_type": "code",
   "execution_count": 1,
   "id": "352839cf",
   "metadata": {},
   "outputs": [],
   "source": [
    "import pandas as pd\n",
    "import numpy as np"
   ]
  },
  {
   "cell_type": "markdown",
   "id": "94df4b6c",
   "metadata": {},
   "source": [
    "## Funções de Conversão de Data\n",
    "\n",
    "### Função `convert_date`\n",
    "\n",
    "Converte datas de D/M/YY para DD/MM/YYYY."
   ]
  },
  {
   "cell_type": "code",
   "execution_count": 2,
   "id": "5fbb2920",
   "metadata": {},
   "outputs": [],
   "source": [
    "def convert_date(date):\n",
    "    day, month, year = date.split('/')\n",
    "    \n",
    "    formatted_day = \"0\" + day if len(day) < 2 else day\n",
    "    formatted_month = \"0\" + month if len(month) < 2 else month\n",
    "    formatted_year = \"20\" + year if len(year) < 4 else year\n",
    "    \n",
    "    formatted_date = f\"{formatted_day}/{formatted_month}/{formatted_year}\"\n",
    "    return pd.to_datetime(formatted_date, format='%d/%m/%Y')"
   ]
  },
  {
   "cell_type": "markdown",
   "id": "1bc9a27c",
   "metadata": {},
   "source": [
    "### Função `parse_presenca`\n",
    "\n",
    "Processa a string de presença, separa e converte as datas."
   ]
  },
  {
   "cell_type": "code",
   "execution_count": 3,
   "id": "daf66be3",
   "metadata": {},
   "outputs": [],
   "source": [
    "def parse_presenca(dates):\n",
    "    if pd.isna(dates):\n",
    "        return []\n",
    "    dates_list = dates.split(sep='-')\n",
    "    dates_list = [convert_date(date.strip()) for date in dates_list if date != '']\n",
    "    \n",
    "    return dates_list"
   ]
  },
  {
   "cell_type": "markdown",
   "id": "e2295902",
   "metadata": {},
   "source": [
    "## Leitura do Dataset Original"
   ]
  },
  {
   "cell_type": "code",
   "execution_count": 4,
   "id": "6574e7c9",
   "metadata": {},
   "outputs": [
    {
     "data": {
      "text/html": [
       "<div>\n",
       "<style scoped>\n",
       "    .dataframe tbody tr th:only-of-type {\n",
       "        vertical-align: middle;\n",
       "    }\n",
       "\n",
       "    .dataframe tbody tr th {\n",
       "        vertical-align: top;\n",
       "    }\n",
       "\n",
       "    .dataframe thead th {\n",
       "        text-align: right;\n",
       "    }\n",
       "</style>\n",
       "<table border=\"1\" class=\"dataframe\">\n",
       "  <thead>\n",
       "    <tr style=\"text-align: right;\">\n",
       "      <th></th>\n",
       "      <th>data</th>\n",
       "      <th>id</th>\n",
       "      <th>presenca</th>\n",
       "    </tr>\n",
       "  </thead>\n",
       "  <tbody>\n",
       "    <tr>\n",
       "      <th>0</th>\n",
       "      <td>28/7/2016</td>\n",
       "      <td>1</td>\n",
       "      <td>27/10/16-20/12/16-03/03/17-26/04/17-04/07/17-0...</td>\n",
       "    </tr>\n",
       "    <tr>\n",
       "      <th>1</th>\n",
       "      <td>28/7/2016</td>\n",
       "      <td>2</td>\n",
       "      <td>04/08/16 - 10/08/16 - 01/09/16-15/09/16-23/09/...</td>\n",
       "    </tr>\n",
       "    <tr>\n",
       "      <th>2</th>\n",
       "      <td>28/7/2016</td>\n",
       "      <td>3</td>\n",
       "      <td>10/08/16 -17/08/16-25/08/16-15/09/16-13/10/16-...</td>\n",
       "    </tr>\n",
       "    <tr>\n",
       "      <th>3</th>\n",
       "      <td>28/7/2016</td>\n",
       "      <td>4</td>\n",
       "      <td>13/09/16-05/10/16-01/11/16-15/03/17-</td>\n",
       "    </tr>\n",
       "    <tr>\n",
       "      <th>4</th>\n",
       "      <td>28/7/2016</td>\n",
       "      <td>5</td>\n",
       "      <td>09/08/16-</td>\n",
       "    </tr>\n",
       "  </tbody>\n",
       "</table>\n",
       "</div>"
      ],
      "text/plain": [
       "        data  id                                           presenca\n",
       "0  28/7/2016   1  27/10/16-20/12/16-03/03/17-26/04/17-04/07/17-0...\n",
       "1  28/7/2016   2  04/08/16 - 10/08/16 - 01/09/16-15/09/16-23/09/...\n",
       "2  28/7/2016   3  10/08/16 -17/08/16-25/08/16-15/09/16-13/10/16-...\n",
       "3  28/7/2016   4               13/09/16-05/10/16-01/11/16-15/03/17-\n",
       "4  28/7/2016   5                                          09/08/16-"
      ]
     },
     "execution_count": 4,
     "metadata": {},
     "output_type": "execute_result"
    }
   ],
   "source": [
    "raw_df = pd.read_csv('presenca_clientes.csv')\n",
    "raw_df.head()"
   ]
  },
  {
   "cell_type": "markdown",
   "id": "08abea48",
   "metadata": {},
   "source": [
    "## Processamento dos Dados\n",
    "\n",
    "Itera sobre cada linha, aplicando conversão e tratamento de exceções."
   ]
  },
  {
   "cell_type": "code",
   "execution_count": 5,
   "id": "d870d3e1",
   "metadata": {},
   "outputs": [],
   "source": [
    "cleaned_df = pd.DataFrame(columns=['id', 'data', 'primeira_visita'])\n",
    "next_index = 0\n",
    "\n",
    "for _, row in raw_df.iterrows():\n",
    "    id = row['id']\n",
    "    \n",
    "    try:\n",
    "        first_date = convert_date(row['data'])\n",
    "        dates = parse_presenca(row['presenca'])\n",
    "    except Exception as e:\n",
    "        print(f\"Couldn't convert dates on line with id {id}: {e}\")\n",
    "        continue\n",
    "    \n",
    "    cleaned_df.loc[next_index] = {'id': id, 'data': first_date, 'primeira_visita': first_date}\n",
    "    next_index += 1\n",
    "    \n",
    "    for date in dates:\n",
    "        cleaned_df.loc[next_index] = {'id': id, 'data': date, 'primeira_visita': first_date}\n",
    "        next_index += 1"
   ]
  },
  {
   "cell_type": "code",
   "execution_count": 6,
   "id": "9e269b6e",
   "metadata": {},
   "outputs": [
    {
     "data": {
      "text/html": [
       "<div>\n",
       "<style scoped>\n",
       "    .dataframe tbody tr th:only-of-type {\n",
       "        vertical-align: middle;\n",
       "    }\n",
       "\n",
       "    .dataframe tbody tr th {\n",
       "        vertical-align: top;\n",
       "    }\n",
       "\n",
       "    .dataframe thead th {\n",
       "        text-align: right;\n",
       "    }\n",
       "</style>\n",
       "<table border=\"1\" class=\"dataframe\">\n",
       "  <thead>\n",
       "    <tr style=\"text-align: right;\">\n",
       "      <th></th>\n",
       "      <th>id</th>\n",
       "      <th>data</th>\n",
       "      <th>primeira_visita</th>\n",
       "    </tr>\n",
       "  </thead>\n",
       "  <tbody>\n",
       "    <tr>\n",
       "      <th>0</th>\n",
       "      <td>1</td>\n",
       "      <td>2016-07-28</td>\n",
       "      <td>2016-07-28</td>\n",
       "    </tr>\n",
       "    <tr>\n",
       "      <th>1</th>\n",
       "      <td>1</td>\n",
       "      <td>2016-10-27</td>\n",
       "      <td>2016-07-28</td>\n",
       "    </tr>\n",
       "    <tr>\n",
       "      <th>2</th>\n",
       "      <td>1</td>\n",
       "      <td>2016-12-20</td>\n",
       "      <td>2016-07-28</td>\n",
       "    </tr>\n",
       "    <tr>\n",
       "      <th>3</th>\n",
       "      <td>1</td>\n",
       "      <td>2017-03-03</td>\n",
       "      <td>2016-07-28</td>\n",
       "    </tr>\n",
       "    <tr>\n",
       "      <th>4</th>\n",
       "      <td>1</td>\n",
       "      <td>2017-04-26</td>\n",
       "      <td>2016-07-28</td>\n",
       "    </tr>\n",
       "    <tr>\n",
       "      <th>5</th>\n",
       "      <td>1</td>\n",
       "      <td>2017-07-04</td>\n",
       "      <td>2016-07-28</td>\n",
       "    </tr>\n",
       "    <tr>\n",
       "      <th>6</th>\n",
       "      <td>1</td>\n",
       "      <td>2017-09-05</td>\n",
       "      <td>2016-07-28</td>\n",
       "    </tr>\n",
       "    <tr>\n",
       "      <th>7</th>\n",
       "      <td>1</td>\n",
       "      <td>2017-10-24</td>\n",
       "      <td>2016-07-28</td>\n",
       "    </tr>\n",
       "    <tr>\n",
       "      <th>8</th>\n",
       "      <td>1</td>\n",
       "      <td>2017-12-06</td>\n",
       "      <td>2016-07-28</td>\n",
       "    </tr>\n",
       "    <tr>\n",
       "      <th>9</th>\n",
       "      <td>1</td>\n",
       "      <td>2018-06-13</td>\n",
       "      <td>2016-07-28</td>\n",
       "    </tr>\n",
       "  </tbody>\n",
       "</table>\n",
       "</div>"
      ],
      "text/plain": [
       "   id       data primeira_visita\n",
       "0   1 2016-07-28      2016-07-28\n",
       "1   1 2016-10-27      2016-07-28\n",
       "2   1 2016-12-20      2016-07-28\n",
       "3   1 2017-03-03      2016-07-28\n",
       "4   1 2017-04-26      2016-07-28\n",
       "5   1 2017-07-04      2016-07-28\n",
       "6   1 2017-09-05      2016-07-28\n",
       "7   1 2017-10-24      2016-07-28\n",
       "8   1 2017-12-06      2016-07-28\n",
       "9   1 2018-06-13      2016-07-28"
      ]
     },
     "execution_count": 6,
     "metadata": {},
     "output_type": "execute_result"
    }
   ],
   "source": [
    "cleaned_df.head(10)"
   ]
  },
  {
   "cell_type": "code",
   "execution_count": 7,
   "id": "b5f939de",
   "metadata": {},
   "outputs": [],
   "source": [
    "cleaned_df.to_csv('presenca_clientes_limpo.csv', index=False)"
   ]
  }
 ],
 "metadata": {
  "kernelspec": {
   "display_name": "Python 3 (ipykernel)",
   "language": "python",
   "name": "python3"
  },
  "language_info": {
   "codemirror_mode": {
    "name": "ipython",
    "version": 3
   },
   "file_extension": ".py",
   "mimetype": "text/x-python",
   "name": "python",
   "nbconvert_exporter": "python",
   "pygments_lexer": "ipython3",
   "version": "3.10.9"
  }
 },
 "nbformat": 4,
 "nbformat_minor": 5
}
